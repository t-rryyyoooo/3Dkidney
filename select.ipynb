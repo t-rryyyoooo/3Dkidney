{
 "cells": [
  {
   "cell_type": "code",
   "execution_count": 1,
   "metadata": {},
   "outputs": [],
   "source": [
    "import shutil"
   ]
  },
  {
   "cell_type": "code",
   "execution_count": 6,
   "metadata": {},
   "outputs": [],
   "source": [
    "shutil.rmtree(r\"C:\\Users\\VMLAB\\Desktop\\kidney\\patch\\2\")"
   ]
  },
  {
   "cell_type": "code",
   "execution_count": 2,
   "metadata": {},
   "outputs": [],
   "source": [
    "selects = [0,1,2,3,4,5,6,7,10,13,15,21,25,30,31,38,41,45,50,51,61,64,87,88,90,94,98,109,110,112,113,115,116,117,122,129,130,132,134,138,148,150,152,153,160,162,166,174,193,199]"
   ]
  },
  {
   "cell_type": "code",
   "execution_count": 3,
   "metadata": {},
   "outputs": [],
   "source": [
    "for x in range(210):\n",
    "    count = 0\n",
    "    for select in selects:\n",
    "        if x == select:\n",
    "            count += 1\n",
    "            continue\n",
    "    \n",
    "    if count == 0:\n",
    "        if x < 10:\n",
    "            shutil.rmtree(r\"C:\\Users\\VMLAB\\Desktop\\kidney\\kits19\\data\\case_0000\" + str(x))\n",
    "    \n",
    "        if x >= 10 and x < 100:\n",
    "            shutil.rmtree(r\"C:\\Users\\VMLAB\\Desktop\\kidney\\kits19\\data\\case_000\" + str(x))\n",
    "    \n",
    "        if x >= 100:\n",
    "            shutil.rmtree(r\"C:\\Users\\VMLAB\\Desktop\\kidney\\kits19\\data\\case_00\" + str(x))"
   ]
  },
  {
   "cell_type": "code",
   "execution_count": null,
   "metadata": {},
   "outputs": [],
   "source": []
  }
 ],
 "metadata": {
  "kernelspec": {
   "display_name": "Python 3",
   "language": "python",
   "name": "python3"
  },
  "language_info": {
   "codemirror_mode": {
    "name": "ipython",
    "version": 3
   },
   "file_extension": ".py",
   "mimetype": "text/x-python",
   "name": "python",
   "nbconvert_exporter": "python",
   "pygments_lexer": "ipython3",
   "version": "3.7.3"
  }
 },
 "nbformat": 4,
 "nbformat_minor": 2
}
