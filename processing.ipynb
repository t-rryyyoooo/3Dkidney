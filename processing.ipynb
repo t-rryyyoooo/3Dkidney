{
 "cells": [
  {
   "cell_type": "markdown",
   "metadata": {},
   "source": [
    "## Calculate dice score"
   ]
  },
  {
   "cell_type": "code",
   "execution_count": 8,
   "metadata": {},
   "outputs": [],
   "source": [
    "import SimpleITK as sitk\n",
    "import numpy  as np"
   ]
  },
  {
   "cell_type": "code",
   "execution_count": 9,
   "metadata": {},
   "outputs": [],
   "source": [
    "def DICE(turelabel, result):\n",
    "    intersection=np.sum(np.minimum(np.equal(turelabel,result),turelabel))\n",
    "    union = np.count_nonzero(turelabel)+np.count_nonzero(result)\n",
    "    dice = 2 * intersection / union\n",
    "    return dice\n",
    "\n",
    "def averagenum(num):\n",
    "    nsum = 0\n",
    "    for i in range(len(num)):\n",
    "        nsum += num[i]\n",
    "    return nsum / len(num)"
   ]
  },
  {
   "cell_type": "code",
   "execution_count": 12,
   "metadata": {},
   "outputs": [
    {
     "name": "stdout",
     "output_type": "stream",
     "text": [
      "average whole: 0.9127486487642922\n",
      "every whole\n",
      "[0.9690794715484815, 0.927126156623787, 0.9163230481496596, 0.9682067061858003, 0.9651696286871205, 0.7741821237227036, 0.9490473946557262, 0.9417119318556076, 0.8322598892483576, 0.95985075974803, 0.9351281982858377, 0.8753530207252257, 0.8676468034522116, 0.9457700526158583, 0.9738564840862126, 0.5946822738046371, 0.9696399680738615, 0.9693487248691347, 0.9463754002358892, 0.976360180362942, 0.9684277281613746, 0.9461248121953901, 0.9593044719244215, 0.96830889400914, 0.935477184809711, 0.9329992807287544, 0.881188740586158, 0.9678784389044971, 0.6607619391485658, 0.9048697555236696]\n",
      "average kidney:  0.9311015229674968\n",
      "every kidney\n",
      "[0.9775884527371942, 0.9575302822364102, 0.9413290349165566, 0.9767267636365339, 0.9717484456824741, 0.8269687349337311, 0.9630409556838049, 0.9614290781073483, 0.795657109990836, 0.9688718418309462, 0.9523688041178324, 0.9187346498143591, 0.9090498840221306, 0.9613404168369432, 0.9789059196617336, 0.5937428599626589, 0.9757315776266893, 0.9754045943143995, 0.9578473791017345, 0.9788314755756998, 0.9719361841134692, 0.961975746302303, 0.969326979594205, 0.9748335111667096, 0.9491060664994938, 0.926225335090666, 0.9099191400154469, 0.9826234679305096, 0.8106044773537248, 0.9336465201683578]\n",
      "average cancer:  0.482842146832225\n",
      "every cancer\n",
      "[0.33045622688039455, 0.0, 0.6633385881940795, 0.7229224236705534, 0.8122974261201144, 0.5700187349922158, 0.002966038855109002, 0.04793449944175661, 0.855207303208272, 0.515735752764389, 0.3788233395206198, 0.4320459142870584, 0.821934643822785, 0.833203337351391, 0.0, 0.6393875056295438, 0.9131523545706371, 0.5833912922520518, 0.47293987516789127, 0.0, 0.0, 0.6557485369076836, 0.4075, 0.0, 0.8958857564149825, 0.9379501250178224, 0.8012815594986282, 0.0, 0.4181546018428884, 0.7729885685558786]\n"
     ]
    }
   ],
   "source": [
    "##faster\n",
    "num_arry=['000','001','002','003','004',\"005\",\"006\"]\n",
    "whole_dice=[]\n",
    "kidney_dice = []\n",
    "cancer_dice = []\n",
    "\n",
    "#image_arry_kid = []\n",
    "#result_kid = []\n",
    "#image_arry_can = []\n",
    "#result_can = []\n",
    "\n",
    "for num in range(30):\n",
    "    a = str(num).zfill(3)\n",
    "    labelpath=r\"E:\\kits19\\data\\case_00{}\\segmentation.nii.gz\".format(a)\n",
    "    resultpath=r\"C:\\Users\\VMLAB\\Desktop\\kidney\\segmentedData\\final_case00{}.mha\".format(a)\n",
    "    \n",
    "    image=sitk.ReadImage(labelpath)\n",
    "    result=sitk.ReadImage(resultpath)\n",
    "    image_arry = sitk.GetArrayFromImage(image)\n",
    "    result_arry = sitk.GetArrayFromImage(result)\n",
    "    \n",
    "    whole_dice.append(DICE(image_arry,result_arry))\n",
    "    \n",
    "    image_arry_kid = np.where(image_arry==1,1,0)\n",
    "    image_arry_can = np.where(image_arry==2,2,0)\n",
    "    \n",
    "    result_kid = np.where(result_arry==1,1,0)\n",
    "    result_can = np.where(result_arry==2,2,0)\n",
    "\n",
    "    kidney_dice.append(DICE(image_arry_kid,result_kid))\n",
    "    cancer_dice.append(DICE(image_arry_can,result_can))\n",
    "    \n",
    "#print(wholedice)\n",
    "print(\"average whole:\",averagenum(whole_dice))\n",
    "print(\"every whole\")\n",
    "print(whole_dice)\n",
    "print(\"average kidney: \",averagenum(kidney_dice))\n",
    "print(\"every kidney\")\n",
    "print(kidney_dice)\n",
    "print(\"average cancer: \",averagenum(cancer_dice))\n",
    "print(\"every cancer\")\n",
    "print(cancer_dice)"
   ]
  },
  {
   "cell_type": "code",
   "execution_count": 88,
   "metadata": {},
   "outputs": [
    {
     "ename": "RuntimeError",
     "evalue": "Exception thrown in SimpleITK ReadImage: /scratch/dashboard/SimpleITK-OSX10.6-x86_64-pkg/SimpleITK/Code/IO/src/sitkImageReaderBase.cxx:99:\nsitk::ERROR: The file \"C:\\Users\\VMLAB\\Desktop\\kidney\\kits19\\data\\case_00000\\segmentation.nii.gz\" does not exist.",
     "output_type": "error",
     "traceback": [
      "\u001b[0;31m---------------------------------------------------------------------------\u001b[0m",
      "\u001b[0;31mRuntimeError\u001b[0m                              Traceback (most recent call last)",
      "\u001b[0;32m<ipython-input-88-998ca6a9e18e>\u001b[0m in \u001b[0;36m<module>\u001b[0;34m\u001b[0m\n\u001b[1;32m     12\u001b[0m     \u001b[0mlabelpath\u001b[0m\u001b[0;34m=\u001b[0m\u001b[0;34mr\"C:\\Users\\VMLAB\\Desktop\\kidney\\kits19\\data\\case_00{}\\segmentation.nii.gz\"\u001b[0m\u001b[0;34m.\u001b[0m\u001b[0mformat\u001b[0m\u001b[0;34m(\u001b[0m\u001b[0mnum\u001b[0m\u001b[0;34m)\u001b[0m\u001b[0;34m\u001b[0m\u001b[0;34m\u001b[0m\u001b[0m\n\u001b[1;32m     13\u001b[0m     \u001b[0mresultpath\u001b[0m\u001b[0;34m=\u001b[0m\u001b[0;34mr\"C:\\Users\\VMLAB\\Desktop\\kidney\\segmentedData\\nonmask_case_00{}.mha\"\u001b[0m\u001b[0;34m.\u001b[0m\u001b[0mformat\u001b[0m\u001b[0;34m(\u001b[0m\u001b[0mnum\u001b[0m\u001b[0;34m)\u001b[0m\u001b[0;34m\u001b[0m\u001b[0;34m\u001b[0m\u001b[0m\n\u001b[0;32m---> 14\u001b[0;31m     \u001b[0mimage\u001b[0m\u001b[0;34m=\u001b[0m\u001b[0msitk\u001b[0m\u001b[0;34m.\u001b[0m\u001b[0mReadImage\u001b[0m\u001b[0;34m(\u001b[0m\u001b[0mlabelpath\u001b[0m\u001b[0;34m)\u001b[0m\u001b[0;34m\u001b[0m\u001b[0;34m\u001b[0m\u001b[0m\n\u001b[0m\u001b[1;32m     15\u001b[0m     \u001b[0mresult\u001b[0m\u001b[0;34m=\u001b[0m\u001b[0msitk\u001b[0m\u001b[0;34m.\u001b[0m\u001b[0mReadImage\u001b[0m\u001b[0;34m(\u001b[0m\u001b[0mresultpath\u001b[0m\u001b[0;34m)\u001b[0m\u001b[0;34m\u001b[0m\u001b[0;34m\u001b[0m\u001b[0m\n\u001b[1;32m     16\u001b[0m     \u001b[0;31m#whole\u001b[0m\u001b[0;34m\u001b[0m\u001b[0;34m\u001b[0m\u001b[0;34m\u001b[0m\u001b[0m\n",
      "\u001b[0;32m~/anaconda3/lib/python3.7/site-packages/SimpleITK/SimpleITK.py\u001b[0m in \u001b[0;36mReadImage\u001b[0;34m(*args)\u001b[0m\n\u001b[1;32m   8874\u001b[0m \u001b[0;34m\u001b[0m\u001b[0m\n\u001b[1;32m   8875\u001b[0m     \"\"\"\n\u001b[0;32m-> 8876\u001b[0;31m     \u001b[0;32mreturn\u001b[0m \u001b[0m_SimpleITK\u001b[0m\u001b[0;34m.\u001b[0m\u001b[0mReadImage\u001b[0m\u001b[0;34m(\u001b[0m\u001b[0;34m*\u001b[0m\u001b[0margs\u001b[0m\u001b[0;34m)\u001b[0m\u001b[0;34m\u001b[0m\u001b[0;34m\u001b[0m\u001b[0m\n\u001b[0m\u001b[1;32m   8877\u001b[0m \u001b[0;32mclass\u001b[0m \u001b[0mImageViewer\u001b[0m\u001b[0;34m(\u001b[0m\u001b[0m_object\u001b[0m\u001b[0;34m)\u001b[0m\u001b[0;34m:\u001b[0m\u001b[0;34m\u001b[0m\u001b[0;34m\u001b[0m\u001b[0m\n\u001b[1;32m   8878\u001b[0m     \"\"\"\n",
      "\u001b[0;31mRuntimeError\u001b[0m: Exception thrown in SimpleITK ReadImage: /scratch/dashboard/SimpleITK-OSX10.6-x86_64-pkg/SimpleITK/Code/IO/src/sitkImageReaderBase.cxx:99:\nsitk::ERROR: The file \"C:\\Users\\VMLAB\\Desktop\\kidney\\kits19\\data\\case_00000\\segmentation.nii.gz\" does not exist."
     ]
    }
   ],
   "source": [
    "##slower\n",
    "num_arry=['000','001','002','003','004',\"005\",\"006\"]\n",
    "whole_dice=[]\n",
    "kidney_dice = []\n",
    "cancer_dice = []\n",
    "\n",
    "image_arry_kid = []\n",
    "result_kid = []\n",
    "image_arry_can = []\n",
    "result_can = []\n",
    "\n",
    "for num in num_arry:\n",
    "    labelpath=r\"E:\\kits19\\data\\case_00{}\\segmentation.nii.gz\".format(num)\n",
    "    resultpath=r\"C:\\Users\\VMLAB\\Desktop\\kidney\\segmentedData\\final_case_00{}.mha\".format(num)\n",
    "    image=sitk.ReadImage(labelpath)\n",
    "    result=sitk.ReadImage(resultpath)\n",
    "    #whole\n",
    "    image_arry = sitk.GetArrayFromImage(image)\n",
    "    result_arry = sitk.GetArrayFromImage(result)\n",
    "    whole_dice.append(DICE(image_arry,result_arry))\n",
    "    \n",
    "    for (images,results) in zip(image_arry,result_array):\n",
    "        for l1,m1 in zip(images,results):\n",
    "            for l,m in zip(l1,m1):\n",
    "                if l == 1:\n",
    "                    image_arry_kid.append(l)\n",
    "                else:\n",
    "                    image_arry_kid.append(0)\n",
    "\n",
    "                if l == 2:\n",
    "                    image_arry_can.append(2)\n",
    "                else:\n",
    "                    iamge_arry_can.append(0)\n",
    "\n",
    "                if m == 1:\n",
    "                    result_kid.append(l)\n",
    "                else:\n",
    "                    result_kid.append(0)\n",
    "\n",
    "                if m == 1:\n",
    "                    result_can.append(2)\n",
    "                else:\n",
    "                    result_can.append(0)\n",
    "\n",
    "\n",
    "    kidney_dice.append(DICE(image_arry_kid,result_kid))\n",
    "    cancer_dice.append(DICE(image_arry_can,result_can))\n",
    "    \n",
    "#print(wholedice)\n",
    "print(\"average whole:\",averagenum(whole_dice))\n",
    "print(\"every whole\")\n",
    "print(whole_dice)\n",
    "print(\"average kidney: \",averagenum(kidney_dice))\n",
    "print(\"every kidney\")\n",
    "print(kidney_dice)\n",
    "print(\"average cancer: \",averagenum(cancer_dice))\n",
    "print(\"every cancer\")\n",
    "print(cancer_dice)"
   ]
  },
  {
   "cell_type": "markdown",
   "metadata": {},
   "source": [
    "## Result \n",
    "\n",
    "average whole: 0.8630059891064075\n",
    "\n",
    "every whole\n",
    "\n",
    "[0.9591196067875296, 0.9520993383239303, 0.8467956040743501, 0.9601632634342647, 0.9056905448290898, 0.4647860972799211, 0.9523874690157663]\n",
    "\n",
    "average kidney:  0.9470405045689381\n",
    "\n",
    "every kidney\n",
    "\n",
    "[0.9780640254771015, 0.9723550184214887, 0.9539591541870345, 0.9581546771583904, 0.9545758310738587, 0.9016873078551152, 0.9104875178095769]\n",
    "\n",
    "average cancer:  0.14326236188385308\n",
    "\n",
    "every cancer\n",
    "\n",
    "[0.0, 0.01055656559732567, 0.14334679887379115, 0.14086105719571854, 0.16740243999539958, 0.272494556352483, 0.2681751151722535]"
   ]
  },
  {
   "cell_type": "markdown",
   "metadata": {},
   "source": [
    "## Result with weight decay\n",
    "\n",
    "average whole: 0.8508269859383292\n",
    "\n",
    "every whole\n",
    "\n",
    "[0.9570119057741051, 0.9193649923248561, 0.8647152845515127, 0.9466173537418437, 0.9179154604735212, 0.40666278392545135, 0.9435011207770142]\n",
    "\n",
    "average kidney:  0.8612331243462235\n",
    "\n",
    "every kidney\n",
    "\n",
    "[0.9707636726283999, 0.9359023560800674, 0.8967651445209858, 0.9721365828253096, 0.9455070781498398, 0.352027851971423, 0.9555291842475386]\n",
    "\n",
    "average cancer:  0.3300786053137735\n",
    "\n",
    "every cancer\n",
    "\n",
    "[0.3729897113175507, 0.0, 0.47862260720778527, 0.4145620243346745, 0.46762071450633175, 0.5767551798300717, 0.0]"
   ]
  },
  {
   "cell_type": "markdown",
   "metadata": {},
   "source": [
    "## penalty_categorical"
   ]
  },
  {
   "cell_type": "code",
   "execution_count": 7,
   "metadata": {},
   "outputs": [
    {
     "name": "stdout",
     "output_type": "stream",
     "text": [
      "[[       nan        nan        nan]\n",
      " [       nan        nan 0.98497314]\n",
      " [       nan        nan 0.80284354]\n",
      " [1.47772347        nan        nan]]\n",
      "[[nan nan nan]\n",
      " [nan nan nan]\n",
      " [nan nan nan]\n",
      " [nan nan nan]]\n",
      "[[-2.2062957  -0.28657302 -4.168716  ]\n",
      " [-0.4040414  -0.8846217   0.9555932 ]\n",
      " [-2.452169   -1.2380549   0.517479  ]\n",
      " [ 3.2268555  -1.5685507  -1.0826172 ]]\n"
     ]
    }
   ],
   "source": [
    "import tensorflow as tf\n",
    "\n",
    "array_tf = tf.convert_to_tensor(a,dtype=tf.float32)\n",
    "\n",
    "result = tf.reduce_sum(array_tf,[0,1,2])\n",
    "result2 = tf.reduce_sum(a.sum(0),0)\n",
    "result3 = tf.reduce_sum(result2,0)\n",
    "result_pow = tf.pow(result3,1.0/3)\n",
    "\n",
    "sess = tf.Session()\n",
    "print(sess.run(result_pow))\n",
    "result_pow = tf.pow(result,1.0/3)\n",
    "weight_y = result_pow / tf.reduce_sum(result_pow)\n",
    "print(sess.run(1/weight_y))\n",
    "print(sess.run(result))\n"
   ]
  },
  {
   "cell_type": "markdown",
   "metadata": {},
   "source": [
    "## Plot"
   ]
  },
  {
   "cell_type": "code",
   "execution_count": 11,
   "metadata": {},
   "outputs": [],
   "source": [
    "import numpy as np\n",
    "import matplotlib.pyplot as plt"
   ]
  },
  {
   "cell_type": "code",
   "execution_count": 12,
   "metadata": {},
   "outputs": [],
   "source": [
    "whole_org =  [0.9591196067875296, 0.9520993383239303, 0.8467956040743501, 0.9601632634342647, 0.9056905448290898, 0.4647860972799211, 0.9523874690157663]\n",
    "kid_org = [0.9780640254771015, 0.9723550184214887, 0.9539591541870345, 0.9581546771583904, 0.9545758310738587, 0.9016873078551152, 0.9104875178095769]\n",
    "can_org = [0.0, 0.01055656559732567, 0.14334679887379115, 0.14086105719571854, 0.16740243999539958, 0.272494556352483, 0.2681751151722535]\n",
    "whole_weight = [0.9570119057741051, 0.9193649923248561, 0.8647152845515127, 0.9466173537418437, 0.9179154604735212, 0.40666278392545135, 0.9435011207770142]\n",
    "kid_weight = [0.9707636726283999, 0.9359023560800674, 0.8967651445209858, 0.9721365828253096, 0.9455070781498398, 0.352027851971423, 0.9555291842475386]\n",
    "can_weight = [0.3729897113175507, 0.0, 0.47862260720778527, 0.4145620243346745, 0.46762071450633175, 0.5767551798300717, 0.0]"
   ]
  },
  {
   "cell_type": "markdown",
   "metadata": {},
   "source": [
    "## Original result"
   ]
  },
  {
   "cell_type": "code",
   "execution_count": 104,
   "metadata": {},
   "outputs": [
    {
     "data": {
      "image/png": "[encoded data removed]",
      "text/plain": [
       "<Figure size 432x288 with 1 Axes>"
      ]
     },
     "metadata": {
      "needs_background": "light"
     },
     "output_type": "display_data"
    }
   ],
   "source": [
    "left = np.arange(len(whole_org))\n",
    "y = [0.0,0.1,0.2,0.3,0.4,0.5,0.6,0.7,0.8,0.9,1.0]\n",
    "width = 0.2\n",
    "plt.bar(left, whole_org, color=\"r\",width=width, align=\"center\",label=\"whole\")\n",
    "plt.bar(left+width,kid_org,width=width, color=\"seagreen\", align=\"center\",label=\"kidney\")\n",
    "plt.bar(left+width+width,can_org,width=width, color=\"yellow\", align=\"center\",label=\"kidney cancer\")\n",
    "plt.legend(bbox_to_anchor=(-0.3,-0.3),loc='upper left',ncol=3,borderaxespad=0,fontsize=20)\n",
    "plt.xticks(left + width/2,left)\n",
    "plt.xlabel(\"patient\",fontsize=20)\n",
    "plt.ylabel(\"dice\",fontsize=20)\n",
    "plt.tick_params(axis=\"both\",labelsize=15.0)"
   ]
  },
  {
   "cell_type": "markdown",
   "metadata": {},
   "source": [
    "## Result with weight decay"
   ]
  },
  {
   "cell_type": "code",
   "execution_count": 105,
   "metadata": {},
   "outputs": [
    {
     "data": {
      "image/png": "[encoded data removed]",
      "text/plain": [
       "<Figure size 432x288 with 1 Axes>"
      ]
     },
     "metadata": {
      "needs_background": "light"
     },
     "output_type": "display_data"
    }
   ],
   "source": [
    "left = np.arange(len(whole_org))\n",
    "y = [0.0,0.1,0.2,0.3,0.4,0.5,0.6,0.7,0.8,0.9,1.0]\n",
    "width = 0.2\n",
    "plt.bar(left, whole_weight, color=\"r\",width=width, align=\"center\",label=\"whole\")\n",
    "plt.bar(left+width,kid_weight,width=width, color=\"seagreen\", align=\"center\",label=\"kidney\")\n",
    "plt.bar(left+width+width,can_weight,width=width, color=\"yellow\", align=\"center\",label=\"kidney cancer\")\n",
    "plt.legend(bbox_to_anchor=(-0.3,-0.3),loc='upper left',ncol=3,borderaxespad=0,fontsize=20)\n",
    "plt.xticks(left + width/2,left)\n",
    "plt.xlabel(\"patient\",fontsize=20)\n",
    "plt.ylabel(\"dice\",fontsize=20)\n",
    "plt.tick_params(axis=\"both\",labelsize=15.0)"
   ]
  },
  {
   "cell_type": "markdown",
   "metadata": {},
   "source": [
    "## Marge result"
   ]
  },
  {
   "cell_type": "code",
   "execution_count": 106,
   "metadata": {},
   "outputs": [
    {
     "data": {
      "image/png": "[encoded data removed]",
      "text/plain": [
       "<Figure size 432x288 with 1 Axes>"
      ]
     },
     "metadata": {
      "needs_background": "light"
     },
     "output_type": "display_data"
    }
   ],
   "source": [
    "left = np.arange(len(whole_org))\n",
    "y = [0.0,0.1,0.2,0.3,0.4,0.5,0.6,0.7,0.8,0.9,1.0]\n",
    "width = 0.2\n",
    "#plt.bar(left, whole_org, color=\"r\",width=width, align=\"center\",label=\"whole\",alpha=0.3)\n",
    "#plt.bar(left+width,kid_org,width=width,color=\"b\", align=\"center\",label=\"kidney\",alpha=0.4)\n",
    "#plt.bar(left+width+width,can_org,width=width,color=\"y\", align=\"center\",label=\"kidney cancer\",alpha=0.5)\n",
    "\n",
    "plt.bar(left, whole_weight, color=\"r\",width=width, align=\"center\",label=\"whole\")\n",
    "plt.bar(left+width,kid_weight,width=width,color=\"seagreen\", align=\"center\",label=\"kidney\")\n",
    "plt.bar(left+width+width,can_weight,width=width,color=\"yellow\", align=\"center\",label=\"kidney cancer\")\n",
    "\n",
    "plt.legend(bbox_to_anchor=(-0.3,-0.3),loc='upper left',ncol=3,borderaxespad=0,fontsize=20)\n",
    "plt.xticks(left + width/2,left)\n",
    "plt.xlabel(\"patient\",fontsize=20)\n",
    "plt.ylabel(\"dice\",fontsize=20)\n",
    "plt.tick_params(axis=\"both\",labelsize=15.0)"
   ]
  },
  {
   "cell_type": "markdown",
   "metadata": {},
   "source": [
    "## Compare orginal result with result with weight decay"
   ]
  },
  {
   "cell_type": "markdown",
   "metadata": {},
   "source": [
    "## Kidney"
   ]
  },
  {
   "cell_type": "code",
   "execution_count": 101,
   "metadata": {},
   "outputs": [
    {
     "data": {
      "image/png": "[encoded data removed]",
      "text/plain": [
       "<Figure size 432x288 with 1 Axes>"
      ]
     },
     "metadata": {
      "needs_background": "light"
     },
     "output_type": "display_data"
    }
   ],
   "source": [
    "left = np.arange(len(whole_org))\n",
    "y = [0.0,0.1,0.2,0.3,0.4,0.5,0.6,0.7,0.8,0.9,1.0]\n",
    "width = 0.2\n",
    "#plt.bar(left, whole_org, color=\"r\",width=width, align=\"center\",label=\"original result\")\n",
    "plt.bar(left,kid_org,width=width,color=\"seagreen\", align=\"center\",label=\"original result\")\n",
    "#plt.bar(left,can_org,width=width,color=\"r\", align=\"center\",label=\"original result\")\n",
    "\n",
    "#plt.bar(left+width, whole_weight, color=\"b\",width=width, align=\"center\",label=\"weighted result\")\n",
    "plt.bar(left+width,kid_weight,width=width,color=\"lawngreen\", align=\"center\",label=\"weighted result\")\n",
    "#plt.bar(left+width,can_weight,width=width,color='b', align=\"center\",label=\"weighted result\")\n",
    "\n",
    "plt.legend(bbox_to_anchor=(-0.3,-0.3),loc='upper left',ncol=3,borderaxespad=0,fontsize=20)\n",
    "plt.xticks(left + width/2,left)\n",
    "#plt.yticks(y)\n",
    "plt.xlabel(\"patient\",fontsize=20)\n",
    "plt.ylabel(\"dice\",fontsize=20)\n",
    "plt.tick_params(axis=\"both\",labelsize=15.0)"
   ]
  },
  {
   "cell_type": "markdown",
   "metadata": {},
   "source": [
    "## Kidney cancer"
   ]
  },
  {
   "cell_type": "code",
   "execution_count": 103,
   "metadata": {},
   "outputs": [
    {
     "data": {
      "image/png": "[encoded data removed]",
      "text/plain": [
       "<Figure size 432x288 with 1 Axes>"
      ]
     },
     "metadata": {
      "needs_background": "light"
     },
     "output_type": "display_data"
    }
   ],
   "source": [
    "left = np.arange(len(whole_org))\n",
    "y = [0.0,0.1,0.2,0.3,0.4,0.5,0.6,0.7,0.8,0.9,1.0]\n",
    "y = [0.0,0.2,0.4,0.6,0.8,1.0]\n",
    "width = 0.2\n",
    "#plt.bar(left, whole_org, color=\"r\",width=width, align=\"center\",label=\"original result\")\n",
    "#plt.bar(left,kid_org,width=width,color=\"r\", align=\"center\",label=\"original result\")\n",
    "plt.bar(left,can_org,width=width,color=\"yellow\", align=\"center\",label=\"original result\")\n",
    "\n",
    "#plt.bar(left+width, whole_weight, color=\"b\",width=width, align=\"center\",label=\"weighted result\")\n",
    "#plt.bar(left+width,kid_weight,width=width,color=\"b\", align=\"center\",label=\"weighted result\")\n",
    "plt.bar(left+width,can_weight,width=width,color='y', align=\"center\",label=\"weighted result\")\n",
    "\n",
    "plt.legend(bbox_to_anchor=(-0.3,-0.3),loc='upper left',ncol=3,borderaxespad=0,fontsize=20)\n",
    "plt.xticks(left + width/2,left)\n",
    "plt.yticks(y)\n",
    "plt.xlabel(\"patient\",fontsize=20)\n",
    "plt.ylabel(\"dice\",fontsize=20)\n",
    "plt.tick_params(axis=\"both\",labelsize=15.0)"
   ]
  },
  {
   "cell_type": "markdown",
   "metadata": {},
   "source": [
    "##  From kidney and cancer to only kidney"
   ]
  },
  {
   "cell_type": "code",
   "execution_count": null,
   "metadata": {},
   "outputs": [],
   "source": []
  }
 ],
 "metadata": {
  "kernelspec": {
   "display_name": "Python 3",
   "language": "python",
   "name": "python3"
  },
  "language_info": {
   "codemirror_mode": {
    "name": "ipython",
    "version": 3
   },
   "file_extension": ".py",
   "mimetype": "text/x-python",
   "name": "python",
   "nbconvert_exporter": "python",
   "pygments_lexer": "ipython3",
   "version": "3.7.3"
  }
 },
 "nbformat": 4,
 "nbformat_minor": 2
}
