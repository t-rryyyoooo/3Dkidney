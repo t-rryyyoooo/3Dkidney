{
 "cells": [
  {
   "cell_type": "markdown",
   "metadata": {},
   "source": [
    "## Marge texts"
   ]
  },
  {
   "cell_type": "code",
   "execution_count": 13,
   "metadata": {},
   "outputs": [],
   "source": [
    "import sys\n",
    "import os\n",
    "import numpy as np\n",
    "import tensorflow as tf\n",
    "import SimpleITK as sitk\n",
    "from tensorflow.python.keras import layers as klayers\n",
    "\n",
    "from tensorflow import name_scope\n",
    "import argparse\n",
    "import re\n",
    "from pathlib import Path\n",
    "import random\n",
    "import yaml"
   ]
  },
  {
   "cell_type": "code",
   "execution_count": 14,
   "metadata": {},
   "outputs": [],
   "source": [
    "def readlines_file(file_name):\n",
    "    # 行毎のリストを返す\n",
    "    with open(file_name, 'r') as file:\n",
    "        return file.readlines()\n",
    "\n",
    "\n",
    "def save_file(file_name, text):\n",
    "    with open(file_name, 'a') as file:\n",
    "        file.write(text + \"\\n\")\n",
    "        \n",
    "def list_file(file_name):\n",
    "    cal1 = readlines_file(file_name)\n",
    "    # 改行を削除\n",
    "    cal1 = list(map(lambda x: x.strip(\"\\n\"), cal1))\n",
    "\n",
    "    for line in cal1:\n",
    "        save_file('margeValidation.txt',(line))"
   ]
  },
  {
   "cell_type": "code",
   "execution_count": 15,
   "metadata": {},
   "outputs": [],
   "source": [
    "selects = [7,10,13,15,21,25,30,31,38,41,45,50,51,61,64,87,88,90,94,98,109,110,112,113,115,116,117,122,129,130,132,134,138,148,150,152,153,160,162,166]\n",
    "sel = [174,193,199]"
   ]
  },
  {
   "cell_type": "code",
   "execution_count": 11,
   "metadata": {},
   "outputs": [],
   "source": [
    "for x in range(180,210):\n",
    "    if x < 10:\n",
    "        list_file(\"E:\\margeList\\case_0000\" + str(x) + \".txt\")\n",
    "\n",
    "    if x >= 10 and x < 100:\n",
    "        list_file(\"E:\\margeList\\case_000\" + str(x) + \".txt\")\n",
    "\n",
    "    if x >= 100:\n",
    "        list_file(\"E:\\margeList\\case_00\" + str(x) + \".txt\")"
   ]
  },
  {
   "cell_type": "code",
   "execution_count": 17,
   "metadata": {},
   "outputs": [],
   "source": [
    "save_file(\"a.txt\",\"hello\")"
   ]
  },
  {
   "cell_type": "code",
   "execution_count": null,
   "metadata": {},
   "outputs": [],
   "source": [
    "readlines_file()"
   ]
  }
 ],
 "metadata": {
  "kernelspec": {
   "display_name": "Python 3",
   "language": "python",
   "name": "python3"
  },
  "language_info": {
   "codemirror_mode": {
    "name": "ipython",
    "version": 3
   },
   "file_extension": ".py",
   "mimetype": "text/x-python",
   "name": "python",
   "nbconvert_exporter": "python",
   "pygments_lexer": "ipython3",
   "version": "3.7.3"
  }
 },
 "nbformat": 4,
 "nbformat_minor": 2
}
